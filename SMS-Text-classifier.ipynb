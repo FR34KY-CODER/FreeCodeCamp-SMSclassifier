{
  "cells": [
    {
      "cell_type": "code",
      "execution_count": null,
      "metadata": {
        "id": "8RZOuS9LWQvv"
      },
      "outputs": [],
      "source": [
        "# import libraries\n",
        "try:\n",
        "  # %tensorflow_version only exists in Colab.\n",
        "  # !pip install tf-nightly # Removed tf-nightly installation\n",
        "  pass\n",
        "except Exception:\n",
        "  pass\n",
        "import tensorflow as tf\n",
        "import pandas as pd\n",
        "from tensorflow import keras\n",
        "!pip install tensorflow-datasets\n",
        "import tensorflow_datasets as tfds\n",
        "import numpy as np\n",
        "import matplotlib.pyplot as plt\n",
        "\n",
        "print(tf.__version__)"
      ]
    },
    {
      "cell_type": "code",
      "execution_count": null,
      "metadata": {
        "id": "lMHwYXHXCar3"
      },
      "outputs": [],
      "source": [
        "# get data files\n",
        "!wget https://cdn.freecodecamp.org/project-data/sms/train-data.tsv\n",
        "!wget https://cdn.freecodecamp.org/project-data/sms/valid-data.tsv\n",
        "\n",
        "train_file_path = \"train-data.tsv\"\n",
        "test_file_path = \"valid-data.tsv\""
      ]
    },
    {
      "cell_type": "code",
      "execution_count": null,
      "metadata": {
        "id": "g_h508FEClxO"
      },
      "outputs": [],
      "source": [
        "# Load and preprocess data\n",
        "# Define column names for the dataset\n",
        "COLUMN_NAMES = ['label', 'message']\n",
        "\n",
        "# Load training and test data\n",
        "train_data = pd.read_csv('train-data.tsv', sep='\\t', header=None, names=COLUMN_NAMES)\n",
        "test_data = pd.read_csv('valid-data.tsv', sep='\\t', header=None, names=COLUMN_NAMES)\n",
        "\n",
        "# Convert labels to binary: ham -> 0, spam -> 1\n",
        "train_data['label'] = train_data['label'].map({'ham': 0, 'spam': 1})\n",
        "test_data['label'] = test_data['label'].map({'ham': 0, 'spam': 1})\n",
        "\n",
        "# Split data into features and labels\n",
        "train_messages = train_data['message'].values\n",
        "train_labels = train_data['label'].values\n",
        "test_messages = test_data['message'].values\n",
        "test_labels = test_data['label'].values\n",
        "\n",
        "# Create text vectorization layer\n",
        "max_vocab_size = 10000\n",
        "max_sequence_length = 100\n",
        "\n",
        "vectorize_layer = keras.layers.TextVectorization(\n",
        "    max_tokens=max_vocab_size,\n",
        "    output_mode='int',\n",
        "    output_sequence_length=max_sequence_length\n",
        ")\n",
        "\n",
        "# Adapt the vectorization layer to the training messages\n",
        "vectorize_layer.adapt(train_messages)\n",
        "\n",
        "# Build the model\n",
        "model = keras.Sequential([\n",
        "    keras.layers.Input(shape=(1,), dtype=tf.string),\n",
        "    vectorize_layer,\n",
        "    keras.layers.Embedding(\n",
        "        input_dim=max_vocab_size,\n",
        "        output_dim=16,\n",
        "        input_length=max_sequence_length\n",
        "    ),\n",
        "    keras.layers.GlobalAveragePooling1D(),\n",
        "    keras.layers.Dense(24, activation='relu'),\n",
        "    keras.layers.Dropout(0.5),\n",
        "    keras.layers.Dense(1, activation='sigmoid')\n",
        "])\n",
        "\n",
        "# Compile the model\n",
        "model.compile(\n",
        "    loss=keras.losses.BinaryCrossentropy(),\n",
        "    optimizer='adam',\n",
        "    metrics=['accuracy']\n",
        ")"
      ]
    },
    {
      "cell_type": "code",
      "execution_count": null,
      "metadata": {
        "id": "zOMKywn4zReN"
      },
      "outputs": [],
      "source": [
        "# Train the model\n",
        "history = model.fit(\n",
        "    train_messages,\n",
        "    train_labels,\n",
        "    epochs=20,\n",
        "    validation_data=(test_messages, test_labels),\n",
        "    verbose=2\n",
        ")"
      ]
    },
    {
      "cell_type": "code",
      "execution_count": null,
      "metadata": {
        "id": "J9tD9yACG6M9"
      },
      "outputs": [],
      "source": [
        "# Fixed prediction function\n",
        "def predict_message(pred_text):\n",
        "    # Pass the raw input string directly to the model for prediction\n",
        "    # Keras expects input as a numpy array of object dtype for strings\n",
        "    input_data = np.array([pred_text], dtype=object)\n",
        "    prediction = model.predict(input_data)\n",
        "    spam_prob = float(prediction[0][0])\n",
        "    label = 'spam' if spam_prob > 0.5 else 'ham'\n",
        "    return [spam_prob, label]\n",
        "\n",
        "# Test the function\n",
        "pred_text = \"how are you doing today?\"\n",
        "prediction = predict_message(pred_text)\n",
        "print(prediction)"
      ]
    },
    {
      "cell_type": "code",
      "execution_count": null,
      "metadata": {
        "id": "Dxotov85SjsC"
      },
      "outputs": [],
      "source": [
        "# Run this cell to test your function and model. Do not modify contents.\n",
        "def test_predictions():\n",
        "  test_messages = [\"how are you doing today\",\n",
        "                   \"sale today! to stop texts call 98912460324\",\n",
        "                   \"i dont want to go. can we try it a different day? available sat\",\n",
        "                   \"our new mobile video service is live. just install on your phone to start watching.\",\n",
        "                   \"you have won \u00a31000 cash! call to claim your prize.\",\n",
        "                   \"i'll bring it tomorrow. don't forget the milk.\",\n",
        "                   \"wow, is your arm alright. that happened to me one time too\"\n",
        "                  ]\n",
        "\n",
        "  test_answers = [\"ham\", \"spam\", \"ham\", \"spam\", \"spam\", \"ham\", \"ham\"]\n",
        "  passed = True\n",
        "\n",
        "  for msg, ans in zip(test_messages, test_answers):\n",
        "    prediction = predict_message(msg)\n",
        "    if prediction[1] != ans:\n",
        "      passed = False\n",
        "\n",
        "  if passed:\n",
        "    print(\"You passed the challenge. Great job!\")\n",
        "  else:\n",
        "    print(\"You haven't passed yet. Keep trying.\")\n",
        "\n",
        "test_predictions()\n"
      ]
    },
    {
      "cell_type": "code",
      "source": [],
      "metadata": {
        "id": "K6u0dJaf6xK7"
      },
      "execution_count": null,
      "outputs": []
    }
  ],
  "metadata": {
    "name": "sms_text_classifier",
    "colab": {
      "private_outputs": true,
      "provenance": []
    },
    "kernelspec": {
      "display_name": "Python 3",
      "name": "python3"
    },
    "language_info": {}
  },
  "nbformat": 4,
  "nbformat_minor": 0
}